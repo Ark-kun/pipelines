{
 "cells": [
  {
   "cell_type": "markdown",
   "metadata": {},
   "source": [
    "### TFX Components\n",
    "\n",
    "This notebook shows how to create pipeline that uses TFX components:\n",
    "\n",
    "* CsvExampleGen\n",
    "* StatisticsGen\n",
    "* SchemaGen"
   ]
  },
  {
   "cell_type": "code",
   "execution_count": null,
   "metadata": {},
   "outputs": [],
   "source": [
    "import kfp\n",
    "\n",
    "# Initializing the client\n",
    "client = kfp.Client()\n",
    "\n",
    "# ! Use kfp.Client(host='https://xxxxx.notebooks.googleusercontent.com/') if working from GCP notebooks (or local notebooks)"
   ]
  },
  {
   "cell_type": "code",
   "execution_count": null,
   "metadata": {},
   "outputs": [],
   "source": [
    "import json\n",
    "from kfp.components import load_component_from_url\n",
    "\n",
    "download_from_gcs_op = load_component_from_url('https://raw.githubusercontent.com/Ark-kun/pipelines/290fa55/components/google-cloud/storage/download/component.yaml')\n",
    "CsvExampleGen_op = load_component_from_url('https://raw.githubusercontent.com/Ark-kun/pipelines/3a1159a/components/tfx/ExampleGen/CsvExampleGen/component.yaml')\n",
    "StatisticsGen_op = load_component_from_url('https://raw.githubusercontent.com/Ark-kun/pipelines/3a1159a/components/tfx/StatisticsGen/component.yaml')\n",
    "SchemaGen_op = load_component_from_url('https://raw.githubusercontent.com/Ark-kun/pipelines/3a1159a/components/tfx/SchemaGen/component.yaml')\n",
    "\n",
    "def tfx_pipeline(\n",
    "    input_data_uri,\n",
    "):\n",
    "    download_task = download_from_gcs_op(\n",
    "        input_data_uri,\n",
    "    )\n",
    "    examples_task = CsvExampleGen_op(\n",
    "        input_base=download_task.output,\n",
    "        input_config=json.dumps({\n",
    "            \"splits\": [\n",
    "                {'name': 'data', 'pattern': '*.csv'},\n",
    "            ]\n",
    "        }),\n",
    "        output_config=json.dumps({\n",
    "            \"splitConfig\": {\n",
    "                \"splits\": [\n",
    "                    {'name': 'train', 'hash_buckets': 2},\n",
    "                    {'name': 'eval', 'hash_buckets': 1},\n",
    "                ]\n",
    "            }\n",
    "        }),\n",
    "    )\n",
    "    \n",
    "    statistics_task = StatisticsGen_op(\n",
    "        examples_task.output,\n",
    "    )\n",
    "    \n",
    "    schema_task = SchemaGen_op(\n",
    "        statistics_task.output,\n",
    "    )\n",
    "    \n",
    "client.create_run_from_pipeline_func(\n",
    "    tfx_pipeline,\n",
    "    arguments={\n",
    "        'input_data_uri': 'gs://avolkov/tensorflow-tfx/tfx/components/testdata/external/csv',\n",
    "    },\n",
    ")"
   ]
  }
 ],
 "metadata": {
  "kernelspec": {
   "display_name": "Python 3",
   "language": "python",
   "name": "python3"
  },
  "language_info": {
   "codemirror_mode": {
    "name": "ipython",
    "version": 3
   },
   "file_extension": ".py",
   "mimetype": "text/x-python",
   "name": "python",
   "nbconvert_exporter": "python",
   "pygments_lexer": "ipython3",
   "version": "3.6.7"
  }
 },
 "nbformat": 4,
 "nbformat_minor": 2
}
