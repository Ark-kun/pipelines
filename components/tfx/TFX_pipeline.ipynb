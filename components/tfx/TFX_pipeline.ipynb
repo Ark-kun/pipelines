{
 "cells": [
  {
   "cell_type": "code",
   "execution_count": 10,
   "metadata": {},
   "outputs": [],
   "source": [
    "from typing import NamedTuple\n",
    "\n",
    "def CsvExampleGen_GCS( #\n",
    "    # Inputs\n",
    "    #input_base_path: InputPath('ExternalPath'),\n",
    "    input_base_path: 'ExternalPath', # A Channel of 'ExternalPath' type, which includes one artifact whose uri is an external directory with csv files inside (required).\n",
    "\n",
    "    # Outputs\n",
    "    #output_examples_path: OutputPath('ExamplesPath'),\n",
    "    output_examples_path: 'ExamplesPath',\n",
    "\n",
    "    # Execution properties\n",
    "    #input_config_splits: {'List' : {'item_type': 'ExampleGen.Input.Split'}},\n",
    "    input_config: 'ExampleGen.Input' = '{\"splits\": []}', # JSON-serialized example_gen_pb2.Input instance, providing input configuration. If unset, the files under input_base will be treated as a single split.\n",
    "    #output_config_splits: {'List' : {'item_type': 'ExampleGen.SplitConfig'}},\n",
    "    output_config: 'ExampleGen.Output' = '{\"splitConfig\": {\"splits\": []}}', # JSON-serialized example_gen_pb2.Output instance, providing output configuration. If unset, default splits will be 'train' and 'eval' with size 2:1.\n",
    "    #custom_config: 'ExampleGen.CustomConfig' = None,\n",
    ") -> NamedTuple('Outputs', [\n",
    "    ('examples_path', 'ExamplesPath'),\n",
    "]):\n",
    "    \"\"\"Executes the CsvExampleGen component.\n",
    "\n",
    "    Args:\n",
    "      input_base: A Channel of 'ExternalPath' type, which includes one artifact\n",
    "        whose uri is an external directory with csv files inside (required).\n",
    "      input_config: An example_gen_pb2.Input instance, providing input\n",
    "        configuration. If unset, the files under input_base will be treated as a\n",
    "        single split.\n",
    "      output_config: An example_gen_pb2.Output instance, providing output\n",
    "        configuration. If unset, default splits will be 'train' and 'eval' with\n",
    "        size 2:1.\n",
    "      ??? example_artifacts: Optional channel of 'ExamplesPath' for output train and\n",
    "        eval examples.\n",
    "      ??? input: Forwards compatibility alias for the 'input_base' argument.\n",
    "      ??? instance_name: Optional unique instance name. Necessary if multiple\n",
    "        CsvExampleGen components are declared in the same pipeline.\n",
    "    \"\"\"\n",
    "\n",
    "    import json\n",
    "    import os\n",
    "    from google.protobuf import json_format\n",
    "    from tfx.components.example_gen import utils\n",
    "    from tfx.components.example_gen.csv_example_gen.component import CsvExampleGen\n",
    "    from tfx.proto import example_gen_pb2\n",
    "    from tfx.types import standard_artifacts\n",
    "\n",
    "    # Create input dict.\n",
    "    # input_dict['input_base'] always has a single entry\n",
    "    input_base = standard_artifacts.ExternalArtifact()\n",
    "    input_base.uri = input_base_path\n",
    "    input_dict = {\n",
    "        'input_base': [input_base],\n",
    "    }\n",
    "\n",
    "    # Create output dict.\n",
    "    input_config_obj = example_gen_pb2.Input()\n",
    "    output_config_obj = example_gen_pb2.Output()\n",
    "    json_format.Parse(input_config, input_config_obj)\n",
    "    json_format.Parse(output_config, output_config_obj)\n",
    "    split_names = utils.generate_output_split_names(input_config_obj, output_config_obj)\n",
    "    output_dict_examples = []\n",
    "    for split_name in split_names:\n",
    "        output_split_examples = standard_artifacts.Examples(split=split_name)\n",
    "        output_split_examples.uri = os.path.join(output_examples_path, split_name)\n",
    "        output_dict_examples.append(output_split_examples)\n",
    "    output_dict = {\n",
    "        'examples': output_dict_examples,\n",
    "    }\n",
    "\n",
    "    # Create exec proterties.\n",
    "    exec_properties = {\n",
    "        'input_config': input_config,\n",
    "        'output_config': output_config\n",
    "    }\n",
    "\n",
    "    executor = CsvExampleGen.EXECUTOR_SPEC.executor_class()\n",
    "    executor.Do(\n",
    "        input_dict=input_dict,\n",
    "        output_dict=output_dict,\n",
    "        exec_properties=exec_properties,\n",
    "    )\n",
    "\n",
    "    return (output_examples_path,)\n",
    "\n",
    "if __name__ == '__main__':\n",
    "    import kfp\n",
    "    kfp.components.func_to_container_op(\n",
    "        CsvExampleGen_GCS,\n",
    "        base_image='tensorflow/tensorflow:1.14.0-py3',\n",
    "        packages_to_install=['tfx==0.14'],\n",
    "        output_component_file='CsvExampleGen_GCS.component.yaml'\n",
    "    )"
   ]
  },
  {
   "cell_type": "code",
   "execution_count": 12,
   "metadata": {},
   "outputs": [
    {
     "data": {
      "text/html": [
       "Experiment link <a href=\"/pipeline/#/experiments/details/a565f84e-d79c-41c8-b802-9ef1b03e5dce\" target=\"_blank\" >here</a>"
      ],
      "text/plain": [
       "<IPython.core.display.HTML object>"
      ]
     },
     "metadata": {},
     "output_type": "display_data"
    },
    {
     "data": {
      "text/html": [
       "Run link <a href=\"/pipeline/#/runs/details/84697c60-f477-11e9-93ae-42010a800216\" target=\"_blank\" >here</a>"
      ],
      "text/plain": [
       "<IPython.core.display.HTML object>"
      ]
     },
     "metadata": {},
     "output_type": "display_data"
    },
    {
     "data": {
      "text/plain": [
       "RunPipelineResult(run_id=84697c60-f477-11e9-93ae-42010a800216)"
      ]
     },
     "execution_count": 12,
     "metadata": {},
     "output_type": "execute_result"
    }
   ],
   "source": [
    "#from .CsvExampleGen import CsvExampleGen_GCS\n",
    "import kfp\n",
    "import json\n",
    "\n",
    "CsvExampleGen_op = kfp.components.func_to_container_op(\n",
    "    func=CsvExampleGen_GCS,\n",
    "    base_image='tensorflow/tensorflow:1.14.0-py3',\n",
    "    packages_to_install=['tfx==0.14', 'six>=1.12.0'],\n",
    "    output_component_file='CsvExampleGen_GCS.component.yaml'\n",
    ")\n",
    "\n",
    "output_path_template = 'gs://avolkov/tmp/tfx_pipeline/' + kfp.dsl.EXECUTION_ID_PLACEHOLDER\n",
    "def tfx_pipeline():\n",
    "    CsvExampleGen_op(\n",
    "        input_base_path='gs://avolkov/tensorflow-tfx/tfx/components/testdata/external',\n",
    "        output_examples_path=output_path_template,\n",
    "        input_config=json.dumps({\n",
    "            \"splits\": [\n",
    "                {'name': 'data', 'pattern': 'csv/*.csv'},\n",
    "            ]\n",
    "        }),\n",
    "        output_config=json.dumps({\n",
    "            \"splitConfig\": {\n",
    "                \"splits\": [\n",
    "                    {'name': 'train', 'hash_buckets': 2},\n",
    "                    {'name': 'eval', 'hash_buckets': 1},\n",
    "                ]\n",
    "            }\n",
    "        }),\n",
    "    )\n",
    "\n",
    "from kfp.gcp import use_gcp_secret\n",
    "pipeline_conf = kfp.dsl.PipelineConf()\n",
    "pipeline_conf.add_op_transformer(use_gcp_secret('user-gcp-sa'))\n",
    "    \n",
    "kfp.Client().create_run_from_pipeline_func(tfx_pipeline, arguments={}, pipeline_conf=pipeline_conf)"
   ]
  },
  {
   "cell_type": "code",
   "execution_count": null,
   "metadata": {},
   "outputs": [],
   "source": []
  }
 ],
 "metadata": {
  "kernelspec": {
   "display_name": "Python 3",
   "language": "python",
   "name": "python3"
  },
  "language_info": {
   "codemirror_mode": {
    "name": "ipython",
    "version": 3
   },
   "file_extension": ".py",
   "mimetype": "text/x-python",
   "name": "python",
   "nbconvert_exporter": "python",
   "pygments_lexer": "ipython3",
   "version": "3.6.7"
  }
 },
 "nbformat": 4,
 "nbformat_minor": 2
}
