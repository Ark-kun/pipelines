{
 "nbformat": 4,
 "nbformat_minor": 2,
 "metadata": {
  "language_info": {
   "name": "python",
   "codemirror_mode": {
    "name": "ipython",
    "version": 3
   }
  },
  "orig_nbformat": 2,
  "file_extension": ".py",
  "mimetype": "text/x-python",
  "name": "python",
  "npconvert_exporter": "python",
  "pygments_lexer": "ipython3",
  "version": 3
 },
 "cells": [
  {
   "cell_type": "code",
   "execution_count": 9,
   "metadata": {},
   "outputs": [],
   "source": [
    "import json\n",
    "import kubernetes\n",
    "kubernetes.config.load_kube_config()\n",
    "k8s_api = kubernetes.client.CoreV1Api()\n",
    "k8s_watch = kubernetes.watch.Watch()"
   ]
  },
  {
   "cell_type": "code",
   "execution_count": 15,
   "metadata": {},
   "outputs": [
    {
     "name": "stdout",
     "output_type": "stream",
     "text": "<module 'kubernetes' from 'C:\\\\Users\\\\Ark\\\\AppData\\\\Local\\\\Programs\\\\Python\\\\Python36\\\\lib\\\\site-packages\\\\kubernetes\\\\__init__.py'>\n"
    }
   ],
   "source": [
    "print(kubernetes)"
   ]
  },
  {
   "cell_type": "code",
   "execution_count": null,
   "metadata": {},
   "outputs": [],
   "source": [
    "// addPodMetadata is helper to either add a pod label or annotation to the pod\n",
    "func addPodMetadata(c kubernetes.Interface, field, podName, namespace, key, value string) error {\n",
    "\tmetadata := map[string]interface{}{\n",
    "\t\t\"metadata\": map[string]interface{}{\n",
    "\t\t\tfield: map[string]string{\n",
    "\t\t\t\tkey: value,\n",
    "\t\t\t},\n",
    "\t\t},\n",
    "\t}\n",
    "\tvar err error\n",
    "\tpatch, err := json.Marshal(metadata)\n",
    "\tif err != nil {\n",
    "\t\treturn errors.InternalWrapError(err)\n",
    "\t}\n",
    "\tfor attempt := 0; attempt < patchRetries; attempt++ {\n",
    "\t\t_, err = c.CoreV1().Pods(namespace).Patch(podName, types.MergePatchType, patch)\n",
    "\t\tif err != nil {\n",
    "\t\t\tif !apierr.IsConflict(err) {\n",
    "\t\t\t\treturn err\n",
    "\t\t\t}\n",
    "\t\t} else {\n",
    "\t\t\tbreak\n",
    "\t\t}\n",
    "\t\ttime.Sleep(100 * time.Millisecond)\n",
    "\t}\n",
    "\treturn err\n",
    "}"
   ]
  },
  {
   "cell_type": "code",
   "execution_count": 18,
   "metadata": {},
   "outputs": [
    {
     "ename": "SyntaxError",
     "evalue": "invalid syntax (<ipython-input-18-99b5718a55ef>, line 16)",
     "output_type": "error",
     "traceback": [
      "\u001b[1;36m  File \u001b[1;32m\"<ipython-input-18-99b5718a55ef>\"\u001b[1;36m, line \u001b[1;32m16\u001b[0m\n\u001b[1;33m    for range(patch_retries):\u001b[0m\n\u001b[1;37m                            ^\u001b[0m\n\u001b[1;31mSyntaxError\u001b[0m\u001b[1;31m:\u001b[0m invalid syntax\n"
     ]
    }
   ],
   "source": [
    "import json\n",
    "patch_retries = 100\n",
    "def add_pod_metadata(\n",
    "    k8s_api: kubernetes.client.CoreV1Api,\n",
    "    namespace: str,\n",
    "    pod_name: str,\n",
    "    field: str,\n",
    "    key: str,\n",
    "    value: str,\n",
    "):\n",
    "    patch = {\n",
    "        'metadata': {\n",
    "            field: {key: value}\n",
    "        }\n",
    "    }\n",
    "    for retry in range(patch_retries):\n",
    "        try:\n",
    "            pod = k8s_api.patch_namespaced_pod(\n",
    "                name=pod_name,\n",
    "                namespace=namespace,\n",
    "                body=json.dumps(patch),\n",
    "            )\n",
    "            return\n",
    "        except Exception e:\n",
    "            print(e)\n",
    "            # TODO: Sleep for 100ms\n",
    "    "
   ]
  },
  {
   "cell_type": "code",
   "execution_count": null,
   "metadata": {},
   "outputs": [],
   "source": [
    "executions = {} # id -> pod_name\n",
    "execution_artifacts = {} # id = (execution_id, output_name) -> artifact_id\n",
    "artifacts = {} # id -> Type, URL\n",
    "\n",
    "ARGO_OUTPUTS_ANNOTATION_KEY = 'workflows.argoproj.io/outputs'\n",
    "COMPONENT_SPEC_ANNOTATION_KEY = 'pipelines.kubeflow.org/component_spec'\n",
    "EXECUTION_ID_ANNOTATION_KEY = 'pipelines.kubeflow.org/metadata_execution_id'\n",
    "ARTIFACT_IDS_ANNOTATION_KEY = 'pipelines.kubeflow.org/metadata_artifact_ids'\n",
    "\n",
    "namespace = 'kubeflow' # FIX!!!\n",
    "\n",
    "# Fixed - TODO: Process existing pods first (but how to catch up the events? Maybe they can be replayed)\n",
    "#               Check for Argo Pods without \"metadata_artifacts_written: True\" label\n",
    "\n",
    "# list_pod_for_all_namespaces:\n",
    "#   resource_version: Defaults to changes from the beginning of history.\n",
    "#   label_selector: A selector to restrict the list of returned objects by their labels. Defaults to everything.\n",
    "#   field_selector: A selector to restrict the list of returned objects by their fields. Defaults to everything.\n",
    "\n",
    "for event in k8s_watch.stream(k8s_api.list_pod_for_all_namespaces):\n",
    "    try:\n",
    "        obj = event['object']\n",
    "        if obj.kind == 'Pod': # TODO: Detect Argo pods\n",
    "            if event['type'] == 'ADDED':\n",
    "                execution_id = str(len(executions) + 1)\n",
    "                executions[execution_id] = obj.metadata.name\n",
    "                # !!! Add annotation:\n",
    "                obj.metadata.annotations[EXECUTION_ID_ANNOTATION_KEY] = execution_id\n",
    "                add_pod_metadata(\n",
    "                    namespace=namespace,\n",
    "                    pod_name=obj.metadata.name,\n",
    "                    field='annotations',\n",
    "                    key=EXECUTION_ID_ANNOTATION_KEY,\n",
    "                    value=execution_id,\n",
    "                )\n",
    "\n",
    "            #elif event['object'] == 'MODIFIED':\n",
    "            if obj.status.phase not in ['Pending', 'Running']: # phase = One of Pending,Running,Succeeded,Failed,Unknown\n",
    "                assert obj.metadata.name in executions.values() # The pod name should have been added before\n",
    "                if obj.status.phase == 'Succeeded':\n",
    "                    if ARGO_OUTPUTS_ANNOTATION_KEY in obj.metadata.annotations: # Should be present\n",
    "                        argo_outputs = json.loads(obj.metadata.annotations[ARGO_OUTPUTS_ANNOTATION_KEY])\n",
    "                        component_spec = json.loads(obj.metadata.annotations[COMPONENT_SPEC_ANNOTATION_KEY])\n",
    "                        \n",
    "                        for artifact in argo_outputs.get('artifacts', []):\n",
    "                            art_name = artifact['name']\n",
    "                            art_key = artifact['key']\n",
    "\n",
    "                if obj.status.phase == 'Failed':\n",
    "                    pass\n",
    "\n",
    "        if kind == 'Pod' and name == pod_name:\n",
    "            pod_events.append(event)\n",
    "            phase = obj.status.phase #One of Pending,Running,Succeeded,Failed,Unknown\n",
    "            print(\\\"Event: %s %s %s %s\\\" % (event_type, kind, name, phase)) \n",
    "            if phase != 'Pending':\n",
    "                k8s_watch.stop()\n",
    "    except Exception e:\n",
    "        print(event)\n",
    "        print(e)"
   ]
  }
 ]
}