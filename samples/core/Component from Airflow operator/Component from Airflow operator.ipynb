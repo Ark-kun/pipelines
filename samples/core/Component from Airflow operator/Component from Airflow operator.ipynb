{
 "cells": [
  {
   "cell_type": "markdown",
   "metadata": {},
   "source": [
    "# Creating component from Airflow operators\n",
    "Airflow is a popular orchestrator similar to Pipelines.\n",
    "Airflow's \"operators\" are pretty similar to \"components\". Airflow Operators lack some of the features of Kubeflow Piplines components like well-defined component signature (inpus/outputs) and system-managed data passing between components.\n",
    "\n",
    "Being able to re-use Airflow operators in Kubeflow Pipelines makes transitioning to Pipelines easier.\n",
    "\n",
    "To convert the Airflow operator to Pipelines component use the [create_component_from_airflow_op](https://kubeflow-pipelines.readthedocs.io/en/latest/source/kfp.components.html#kfp.components.create_component_from_airflow_op) function to get component function that you can use in a pipleine."
   ]
  },
  {
   "cell_type": "markdown",
   "metadata": {},
   "source": [
    "## create_component_from_airflow_op\n",
    "The `create_component_from_airflow_op` function creates component function from an Airflow operator class.\n",
    "The inputs of the component are the same as the operator constructor parameters.\n",
    "By default the component has the following outputs: \"Result\", \"Variables\" and \"XComs\". \"Variables\" and \"XComs\" are serialized JSON maps of all variables and xcoms produced by the operator during the execution.\n",
    "Use the variable_output_names and xcom_output_names parameters to output individual variables/xcoms as separate outputs.\n",
    "\n",
    "Args:\n",
    "* op_class: Reference to the Airflow operator class (e.g. EmailOperator or BashOperator) to convert to componenent.\n",
    "* base_image: Optional. The container image to use for the component. Default is apache/airflow. The container image must have the same python version as the environment used to run create_component_from_airflow_op. The image should have python 3.5+ with airflow package installed.\n",
    "* variable_output_names: Optional. A list of Airflow \"variables\" produced by the operator that should be returned as separate outputs.\n",
    "* xcom_output_names: Optional. A list of Airflow \"XComs\" produced by the operator that should be returned as separate outputs.\n",
    "* modules_to_capture: Optional. A list of names of additional modules that the operator depends on. By default only the module containing the operator class is captured. If the operator class uses the code from another module, the name of that module can be specified in this list."
   ]
  },
  {
   "cell_type": "code",
   "execution_count": null,
   "metadata": {},
   "outputs": [],
   "source": [
    "# Install Kubeflow Pipelines SDK\n",
    "!PIP_DISABLE_PIP_VERSION_CHECK=1 python3 -m pip install 'kfp>=0.1.31.2' --quiet\n",
    "!PIP_DISABLE_PIP_VERSION_CHECK=1 python3 -m pip install apache-airflow --quiet"
   ]
  },
  {
   "cell_type": "code",
   "execution_count": null,
   "metadata": {},
   "outputs": [],
   "source": [
    "import kfp\n",
    "from kfp.components import create_component_from_airflow_op"
   ]
  },
  {
   "cell_type": "code",
   "execution_count": null,
   "metadata": {},
   "outputs": [],
   "source": [
    "from airflow.operators.bash_operator import BashOperator\n",
    "\n",
    "# Creating component from Airflow operator\n",
    "bash_op = create_component_from_airflow_op(BashOperator)"
   ]
  },
  {
   "cell_type": "code",
   "execution_count": null,
   "metadata": {},
   "outputs": [],
   "source": [
    "def my_pipeline():\n",
    "    bash_task = bash_op(\n",
    "        bash_command='echo \"Hello from $SHELL\"',\n",
    "        xcom_push=True,\n",
    "    )"
   ]
  },
  {
   "cell_type": "code",
   "execution_count": null,
   "metadata": {},
   "outputs": [],
   "source": [
    "kfp.Client().create_run_from_pipeline_func(my_pipeline, arguments={})"
   ]
  }
 ],
 "metadata": {
  "kernelspec": {
   "display_name": "Python 3",
   "language": "python",
   "name": "python3"
  },
  "language_info": {
   "codemirror_mode": {
    "name": "ipython",
    "version": 3
   },
   "file_extension": ".py",
   "mimetype": "text/x-python",
   "name": "python",
   "nbconvert_exporter": "python",
   "pygments_lexer": "ipython3",
   "version": "3.6.8"
  }
 },
 "nbformat": 4,
 "nbformat_minor": 2
}
